{
 "cells": [
  {
   "cell_type": "markdown",
   "metadata": {},
   "source": [
    "# Sublist Search"
   ]
  },
  {
   "cell_type": "markdown",
   "metadata": {},
   "source": [
    "Given two linked lists, the task is to check whether the first list is present in 2nd list or not."
   ]
  },
  {
   "cell_type": "code",
   "execution_count": 1,
   "metadata": {},
   "outputs": [
    {
     "name": "stdout",
     "output_type": "stream",
     "text": [
      "LIST FOUND\n"
     ]
    }
   ],
   "source": [
    "# Python3 program to find a list in second list \n",
    "class Node: \n",
    "\tdef __init__(self, value = 0): \n",
    "\t\t\n",
    "\t\tself.value = value \n",
    "\t\tself.next = None\n",
    "\n",
    "# Returns true if first list is \n",
    "# present in second list \n",
    "def findList(first, second): \n",
    "\t\n",
    "\t# If both linked lists are empty/None, \n",
    "\t# return True \n",
    "\tif not first and not second: \n",
    "\t\treturn True\n",
    "\n",
    "\t# If ONLY one of them is empty, \n",
    "\t# return False \n",
    "\tif not first or not second: \n",
    "\t\treturn False\n",
    "\n",
    "\tptr1 = first \n",
    "\tptr2 = second \n",
    "\n",
    "\t# Traverse the second LL by \n",
    "\t# picking nodes one by one \n",
    "\twhile ptr2: \n",
    "\n",
    "\t\t# Initialize 'ptr2' with current \n",
    "\t\t# node of 'second' \n",
    "\t\tptr2 = second \n",
    "\n",
    "\t\t# Start matching first LL \n",
    "\t\t# with second LL \n",
    "\t\twhile ptr1: \n",
    "\n",
    "\t\t\t# If second LL become empty and \n",
    "\t\t\t# first not, return False, \n",
    "\t\t\t# since first LL has not been \n",
    "\t\t\t# traversed completely \n",
    "\t\t\tif not ptr2: \n",
    "\t\t\t\treturn False\n",
    "\n",
    "\t\t\t# If value of both nodes from both \n",
    "\t\t\t# LLs are equal, increment pointers \n",
    "\t\t\t# for both LLs so that next value \n",
    "\t\t\t# can be matched \n",
    "\t\t\telif ptr1.value == ptr2.value: \n",
    "\t\t\t\tptr1 = ptr1.next\n",
    "\t\t\t\tptr2 = ptr2.next\n",
    "\n",
    "\t\t\t# If a single mismatch is found \n",
    "\t\t\t# OR ptr1 is None/empty,break out \n",
    "\t\t\t# of the while loop and do some checks \n",
    "\t\t\telse: \n",
    "\t\t\t\tbreak\n",
    "\n",
    "\t\t# check 1 : \n",
    "\t\t# If 'ptr1' is None/empty,that means \n",
    "\t\t# the 'first LL' has been completely \n",
    "\t\t# traversed and matched so return True \n",
    "\t\tif not ptr1: \n",
    "\t\t\treturn True\n",
    "\n",
    "\t\t# If check 1 fails, that means, some \n",
    "\t\t# items for 'first' LL are still yet \n",
    "\t\t# to be matched, so start again by \n",
    "\t\t# bringing back the 'ptr1' to point \n",
    "\t\t# to 1st node of 'first' LL \n",
    "\t\tptr1 = first \n",
    "\t\t\n",
    "\t\t# And increment second node element to next \n",
    "\t\tsecond = second.next\n",
    "\t\t\n",
    "\treturn False\n",
    "\n",
    "# Driver Code \n",
    "\n",
    "# Let us create two linked lists to \n",
    "# test the above functions. \n",
    "# Created lists would be be \n",
    "# node_a: 1->2->3->4 \n",
    "# node_b: 1->2->1->2->3->4 \n",
    "node_a = Node(1) \n",
    "node_a.next = Node(2) \n",
    "node_a.next.next = Node(3) \n",
    "node_a.next.next.next = Node(4) \n",
    "\n",
    "node_b = Node(1) \n",
    "node_b.next = Node(2) \n",
    "node_b.next.next = Node(1) \n",
    "node_b.next.next.next = Node(2) \n",
    "node_b.next.next.next.next = Node(3) \n",
    "node_b.next.next.next.next.next = Node(4) \n",
    "\n",
    "if findList(node_a, node_b): \n",
    "\tprint(\"LIST FOUND\") \n",
    "else: \n",
    "\tprint(\"LIST NOT FOUND\") \n",
    "\n",
    "# This code is contributed by GauriShankarBadola \n"
   ]
  },
  {
   "cell_type": "markdown",
   "metadata": {},
   "source": [
    "Time Complexity : O(m*n) where m is the number of nodes in second list and n in first."
   ]
  },
  {
   "cell_type": "markdown",
   "metadata": {},
   "source": [
    "For reference: https://www.geeksforgeeks.org/sublist-search-search-a-linked-list-in-another-list/"
   ]
  }
 ],
 "metadata": {
  "kernelspec": {
   "display_name": "Python 3",
   "language": "python",
   "name": "python3"
  },
  "language_info": {
   "codemirror_mode": {
    "name": "ipython",
    "version": 3
   },
   "file_extension": ".py",
   "mimetype": "text/x-python",
   "name": "python",
   "nbconvert_exporter": "python",
   "pygments_lexer": "ipython3",
   "version": "3.8.3"
  }
 },
 "nbformat": 4,
 "nbformat_minor": 4
}
